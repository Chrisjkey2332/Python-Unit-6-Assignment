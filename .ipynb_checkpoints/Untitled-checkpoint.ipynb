{
 "cells": [
  {
   "cell_type": "code",
   "execution_count": 2,
   "id": "4ec18161",
   "metadata": {},
   "outputs": [
    {
     "name": "stdout",
     "output_type": "stream",
     "text": [
      "Abraham Lincoln\n",
      "\n",
      "Andrew P Garfield\n",
      "\n",
      "Connor Milliken\n",
      "\n",
      "Jordan Alexander Williams\n",
      "\n",
      "none\n",
      "none\n"
     ]
    }
   ],
   "source": [
    "#import re for regex \n",
    "import re\n",
    "pattern = re.compile(r\"^([A-Z.]+[a-z]+)\\s*(.+)\\s*\\b(\\w+)$\")\n",
    "\n",
    "#open the file as 'file'\n",
    "with open(\"regex_test.txt\", 'r') as file:\n",
    "    #set variable 'lines' as file.readlines which will read each line of the txt file as independent lines\n",
    "    lines = file.readlines()\n",
    "    #make conditional statement that searches each line in 'lines' to find the match and print an output\n",
    "    for line in lines:\n",
    "        match = re.search(pattern, line)\n",
    "        if match:\n",
    "            print(line)\n",
    "        else:\n",
    "            print(\"none\")"
   ]
  },
  {
   "cell_type": "code",
   "execution_count": null,
   "id": "e57cadcf",
   "metadata": {},
   "outputs": [],
   "source": []
  }
 ],
 "metadata": {
  "kernelspec": {
   "display_name": "Python 3 (ipykernel)",
   "language": "python",
   "name": "python3"
  },
  "language_info": {
   "codemirror_mode": {
    "name": "ipython",
    "version": 3
   },
   "file_extension": ".py",
   "mimetype": "text/x-python",
   "name": "python",
   "nbconvert_exporter": "python",
   "pygments_lexer": "ipython3",
   "version": "3.9.7"
  },
  "vscode": {
   "interpreter": {
    "hash": "bc74db8dddfc57886741ad4195e296576cbecf0cc37f74c09a186f0c7be22c63"
   }
  }
 },
 "nbformat": 4,
 "nbformat_minor": 5
}
